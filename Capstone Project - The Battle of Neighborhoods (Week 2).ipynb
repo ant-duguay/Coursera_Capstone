{
 "cells": [
  {
   "cell_type": "markdown",
   "metadata": {},
   "source": [
    "# Battle of the Neighbourhoods - Holiday Destinations"
   ]
  },
  {
   "cell_type": "markdown",
   "metadata": {},
   "source": [
    "![Sandcastle](Capture.JPG)"
   ]
  },
  {
   "cell_type": "markdown",
   "metadata": {},
   "source": [
    "## Project Description:\n",
    "\n",
    "While this was supposed to be a project to compare two neighbourhoods, I decided that in my life it would be more useful to try to analyse and understand which holiday would suit us the best.\n",
    "\n",
    "### Description of the problem:\n",
    "\n",
    "Last year when we went on holiday to Devon for the 4th year running, we went to the beach and my wife, who's never that enthusiastic about beach trips, came along with us. We built our sand castle while Mrs D sat down and started to read her book. \n",
    "As the wind was blowing and we'd bought a kite, we boys went off and flew it and were off across the beach having fun. When we got back we couldn't find Mrs D but there was the remains of our sand castle :( \n",
    "Mrs D turned up soaking wet and explained that the tide had come in and caught her completely unawares and that she and her soggy book were going back to the holiday cottage right now.\n",
    "So all future holidays, she says, will be city breaks.\n",
    "### Analysis Saves the day (hopefully)\n",
    "\n",
    "This project will search potential holiday destinations and score them for desirability based on the requirements of all of the family. I will be searching for the top 100 attractions from centroid location in a city and assigning each a score. \n",
    "This will give a better understanding of what is on offer within walking distance of each centre and enable me to make a case ~~that there really isn't anything there for children and that we should go to the sea-side instead~~ for a fairer choice of holiday destination"
   ]
  },
  {
   "cell_type": "markdown",
   "metadata": {},
   "source": [
    "## Methodology\n",
    "\n",
    "First we'll identify 3 holiday destination coordinates using Geopy and our original tried and tested holiday destination, Devon, for comparison purposes:"
   ]
  },
  {
   "cell_type": "code",
   "execution_count": 90,
   "metadata": {},
   "outputs": [
    {
     "name": "stdout",
     "output_type": "stream",
     "text": [
      "The geograpical coordinate of Exeter, Devon is 50.725562, -3.5269108.\n"
     ]
    }
   ],
   "source": [
    "from geopy.geocoders import Nominatim # convert an address into latitude and longitude values\n",
    "import warnings\n",
    "warnings.filterwarnings('ignore')\n",
    "address = 'Exeter, Devon'\n",
    "\n",
    "geolocator = Nominatim()\n",
    "location = geolocator.geocode(address)\n",
    "latitude_x = location.latitude\n",
    "longitude_y = location.longitude\n",
    "print('The geograpical coordinate of {} is {}, {}.'.format(address, latitude_x, longitude_y))"
   ]
  },
  {
   "cell_type": "markdown",
   "metadata": {},
   "source": [
    "and plot them on a map to visually detail the scope:"
   ]
  },
  {
   "cell_type": "code",
   "execution_count": 190,
   "metadata": {},
   "outputs": [],
   "source": [
    "import folium"
   ]
  },
  {
   "cell_type": "code",
   "execution_count": 297,
   "metadata": {
    "scrolled": true
   },
   "outputs": [
    {
     "data": {
      "text/plain": [
       "<folium.map.Marker at 0xfcdbbe0>"
      ]
     },
     "execution_count": 297,
     "metadata": {},
     "output_type": "execute_result"
    }
   ],
   "source": [
    "m = folium.Map(\n",
    "    location=[52.3745403, 4.89797550561798],\n",
    "    zoom_start=5,\n",
    "    tiles='Stamen Terrain'\n",
    ")\n",
    "\n",
    "folium.Marker(\n",
    "    location=[55.6867243, 12.5700724],\n",
    "    popup='Copenhagen',\n",
    "    icon=folium.Icon(icon='flag')\n",
    ").add_to(m)\n",
    "\n",
    "folium.Marker(\n",
    "    location=[48.85341, 2.3488],\n",
    "    popup='Paris',\n",
    "    icon=folium.Icon(color='green', icon='flag')\n",
    ").add_to(m)\n",
    "\n",
    "folium.Marker(\n",
    "    location=[52.6843696, -1.8275286],\n",
    "    popup='Home',\n",
    "    icon=folium.Icon(color='red', icon='home')\n",
    ").add_to(m)\n",
    "\n",
    "folium.Marker(\n",
    "    location=[52.3745403, 4.89797550561798],\n",
    "    popup='Amsterdam',\n",
    "    icon=folium.Icon(color='orange', icon='flag')\n",
    ").add_to(m)\n",
    "\n",
    "folium.Marker(\n",
    "    location=[50.725562, -3.5269108],\n",
    "    popup='Devon',\n",
    "    icon=folium.Icon(color='red', icon='heart')\n",
    ").add_to(m)"
   ]
  },
  {
   "cell_type": "markdown",
   "metadata": {},
   "source": [
    "![Europe](Europe.JPG)"
   ]
  },
  {
   "cell_type": "markdown",
   "metadata": {},
   "source": [
    "## Next steps\n",
    "\n",
    "I'm next going to use these coordinates in a Foursquare query to find venues, hopefully restricted to holiday attractions, though I haven't figured that out yet, and display these with appropriate markers onto a map.\n",
    "\n",
    "Then determine scores for each of these categories for the 4 members of the family (M, A, Z and E) and put these into a DataFrame\n",
    "\n",
    "Combining the data from FourSquare and the scores from the family, calculate the desirability of the 4 holiday destinations: Devon (control), Paris, Copenhagen and Amsterdam.\n",
    "\n",
    "Then use clusting analysis to ensure that each member of the family will enjoy the holiday and prepare a presentation back to Mrs D to get her buy in on the decision made."
   ]
  },
  {
   "cell_type": "markdown",
   "metadata": {},
   "source": [
    "### Let's get organised"
   ]
  },
  {
   "cell_type": "code",
   "execution_count": 6,
   "metadata": {},
   "outputs": [],
   "source": [
    "Copenhagen_Coords =[55.6867243, 12.5700724]\n",
    "Paris_Coords=[48.85341, 2.3488]\n",
    "Amsterdam_Coords=[52.3745403, 4.89797550561798]\n",
    "Devon_Coords=[50.725562, -3.5269108]"
   ]
  },
  {
   "cell_type": "markdown",
   "metadata": {},
   "source": [
    "Import the libraries we're going to need:"
   ]
  },
  {
   "cell_type": "code",
   "execution_count": 2,
   "metadata": {},
   "outputs": [],
   "source": [
    "import numpy as np # library to handle data in a vectorized manner\n",
    "import pandas as pd # library for data analsysis\n",
    "import json # library to handle JSON files\n",
    "import requests # library to handle requests\n",
    "from pandas.io.json import json_normalize # tranform JSON file into a pandas dataframe\n",
    "# Matplotlib and associated plotting modules\n",
    "import matplotlib as plt\n",
    "import matplotlib.colors as colors"
   ]
  },
  {
   "cell_type": "code",
   "execution_count": 194,
   "metadata": {},
   "outputs": [],
   "source": [
    "# FourSquare Credentials\n",
    "CLIENT_ID = 'MGCWI2D02FDUZHI33VCHJQNT5ZCQP5WAEC0LIONYVUS2PZHV' \n",
    "CLIENT_SECRET = '32J1QAJXVVUSSAAQATHLRJTT35HCZMDBNQXUPJQSW12BHYVO'\n",
    "VERSION = '20180605'"
   ]
  },
  {
   "cell_type": "markdown",
   "metadata": {},
   "source": [
    "## First challenge - Filtering FourSquare results so that it only brings back results that are relevant\n",
    "This was easier than I thought it would be! \n",
    "\n",
    "https://developer.foursquare.com/docs/api/venues/recommendations\n",
    ": \n",
    "By setting the 'intent' filter, we can only bring back venues of that category: food, breakfast, brunch, lunch, coffee, dinner, dessert, drinks, shopping, fun, sights. Specifies the top-level “intent” for a search.\n",
    "\n",
    "For my holiday activities, I'm going to use 'fun'"
   ]
  },
  {
   "cell_type": "code",
   "execution_count": 195,
   "metadata": {},
   "outputs": [],
   "source": [
    "intent = 'fun'\n",
    "radius = 2000\n",
    "LIMIT = 100"
   ]
  },
  {
   "cell_type": "markdown",
   "metadata": {},
   "source": [
    "First we'll define a function to clean up the data received from FourSquare"
   ]
  },
  {
   "cell_type": "code",
   "execution_count": 196,
   "metadata": {},
   "outputs": [],
   "source": [
    "def get_category_type(row):\n",
    "    try:\n",
    "        categories_list = row['categories']\n",
    "    except:\n",
    "        categories_list = row['venue.categories']\n",
    "        \n",
    "    if len(categories_list) == 0:\n",
    "        return None\n",
    "    else:\n",
    "        return categories_list[0]['name']"
   ]
  },
  {
   "cell_type": "markdown",
   "metadata": {},
   "source": [
    "Then I've written a cool function to return the required data given a set of coordinates:"
   ]
  },
  {
   "cell_type": "code",
   "execution_count": 197,
   "metadata": {},
   "outputs": [],
   "source": [
    "def get_holiday_fun(coords):\n",
    "    url = 'https://api.foursquare.com/v2/venues/explore?&client_id={}&client_secret={}&v={}&ll={},{}&radius={}&limit={}&intent={}'.format(\n",
    "    CLIENT_ID, CLIENT_SECRET, VERSION, coords[0], coords[1], radius, LIMIT,intent)\n",
    "    results = requests.get(url).json()\n",
    "    venues=results['response']['groups'][0]['items']\n",
    "    nearby_venues = json_normalize(venues)\n",
    "    filtered_columns = ['venue.name', 'venue.categories', 'venue.location.lat', 'venue.location.lng']\n",
    "    nearby_venues = nearby_venues.loc[:, filtered_columns]\n",
    "    nearby_venues['venue.categories'] = nearby_venues.apply(get_category_type, axis=1)\n",
    "    nearby_venues.columns = [col.split(\".\")[-1] for col in nearby_venues.columns]\n",
    "    return nearby_venues"
   ]
  },
  {
   "cell_type": "markdown",
   "metadata": {},
   "source": [
    "I'll use my function 4 times to pull the information about 'fun' attractions in the potential holiday destinations"
   ]
  },
  {
   "cell_type": "code",
   "execution_count": 198,
   "metadata": {},
   "outputs": [],
   "source": [
    "copenhagen_venues = get_holiday_fun(Copenhagen_Coords)\n",
    "paris_venues = get_holiday_fun(Paris_Coords)\n",
    "amsterdam_venues = get_holiday_fun(Amsterdam_Coords)\n",
    "devon_venues = get_holiday_fun(Devon_Coords)"
   ]
  },
  {
   "cell_type": "markdown",
   "metadata": {},
   "source": [
    "I now need a distinct list of attractions so that I can take these to my audience and ask them which is most important for our holiday. So I combine the datasets into one after having marked each with the city names:"
   ]
  },
  {
   "cell_type": "code",
   "execution_count": 199,
   "metadata": {},
   "outputs": [],
   "source": [
    "# Combine Datasets\n",
    "copenhagen_venues['City'] = 'Copenhagen'\n",
    "paris_venues['City'] = 'Paris'\n",
    "amsterdam_venues['City'] = 'Amsterdam'\n",
    "devon_venues['City'] = 'Devon'\n",
    "df = pd.concat([copenhagen_venues, paris_venues,amsterdam_venues,devon_venues])\n",
    "df.columns = ['Name','Categories','Latitude','Longitude','City']"
   ]
  },
  {
   "cell_type": "markdown",
   "metadata": {},
   "source": [
    "Using the .unique() function, I've found each type of attraction and written this to a CSV"
   ]
  },
  {
   "cell_type": "code",
   "execution_count": 200,
   "metadata": {},
   "outputs": [],
   "source": [
    "categories = df.Categories.unique()\n",
    "\n",
    "dataset = pd.DataFrame({'Categories':categories})\n",
    "\n",
    "dataset.sort_values(by=['Categories'], ascending = True).to_csv(r'categories.csv')"
   ]
  },
  {
   "cell_type": "markdown",
   "metadata": {},
   "source": [
    "Having spoken to the family and decided what the best things to do on holiday are, I've loaded the data back into a dataframe:"
   ]
  },
  {
   "cell_type": "code",
   "execution_count": 259,
   "metadata": {},
   "outputs": [
    {
     "data": {
      "text/html": [
       "<div>\n",
       "<style scoped>\n",
       "    .dataframe tbody tr th:only-of-type {\n",
       "        vertical-align: middle;\n",
       "    }\n",
       "\n",
       "    .dataframe tbody tr th {\n",
       "        vertical-align: top;\n",
       "    }\n",
       "\n",
       "    .dataframe thead th {\n",
       "        text-align: right;\n",
       "    }\n",
       "</style>\n",
       "<table border=\"1\" class=\"dataframe\">\n",
       "  <thead>\n",
       "    <tr style=\"text-align: right;\">\n",
       "      <th></th>\n",
       "      <th>Categories</th>\n",
       "      <th>Score</th>\n",
       "    </tr>\n",
       "  </thead>\n",
       "  <tbody>\n",
       "    <tr>\n",
       "      <th>0</th>\n",
       "      <td>Science Museum</td>\n",
       "      <td>10</td>\n",
       "    </tr>\n",
       "    <tr>\n",
       "      <th>1</th>\n",
       "      <td>Theme Park</td>\n",
       "      <td>10</td>\n",
       "    </tr>\n",
       "    <tr>\n",
       "      <th>2</th>\n",
       "      <td>Theme Park Ride / Attraction</td>\n",
       "      <td>10</td>\n",
       "    </tr>\n",
       "    <tr>\n",
       "      <th>3</th>\n",
       "      <td>Zoo</td>\n",
       "      <td>10</td>\n",
       "    </tr>\n",
       "    <tr>\n",
       "      <th>4</th>\n",
       "      <td>Zoo Exhibit</td>\n",
       "      <td>10</td>\n",
       "    </tr>\n",
       "  </tbody>\n",
       "</table>\n",
       "</div>"
      ],
      "text/plain": [
       "                     Categories  Score\n",
       "0                Science Museum     10\n",
       "1                    Theme Park     10\n",
       "2  Theme Park Ride / Attraction     10\n",
       "3                           Zoo     10\n",
       "4                   Zoo Exhibit     10"
      ]
     },
     "execution_count": 259,
     "metadata": {},
     "output_type": "execute_result"
    }
   ],
   "source": [
    "scoring = pd.DataFrame(pd.read_csv(\"category_scores.csv\").to_dict(orient=\"row\"))\n",
    "\n",
    "scoring.head()"
   ]
  },
  {
   "cell_type": "markdown",
   "metadata": {},
   "source": [
    "Next I need to join the scores to my dataframe with all the attractions:"
   ]
  },
  {
   "cell_type": "code",
   "execution_count": 260,
   "metadata": {},
   "outputs": [
    {
     "data": {
      "text/html": [
       "<div>\n",
       "<style scoped>\n",
       "    .dataframe tbody tr th:only-of-type {\n",
       "        vertical-align: middle;\n",
       "    }\n",
       "\n",
       "    .dataframe tbody tr th {\n",
       "        vertical-align: top;\n",
       "    }\n",
       "\n",
       "    .dataframe thead th {\n",
       "        text-align: right;\n",
       "    }\n",
       "</style>\n",
       "<table border=\"1\" class=\"dataframe\">\n",
       "  <thead>\n",
       "    <tr style=\"text-align: right;\">\n",
       "      <th></th>\n",
       "      <th>Name</th>\n",
       "      <th>Categories</th>\n",
       "      <th>Latitude</th>\n",
       "      <th>Longitude</th>\n",
       "      <th>City</th>\n",
       "    </tr>\n",
       "  </thead>\n",
       "  <tbody>\n",
       "    <tr>\n",
       "      <th>0</th>\n",
       "      <td>Rosenborg Slot</td>\n",
       "      <td>Palace</td>\n",
       "      <td>55.685683</td>\n",
       "      <td>12.577482</td>\n",
       "      <td>Copenhagen</td>\n",
       "    </tr>\n",
       "    <tr>\n",
       "      <th>1</th>\n",
       "      <td>Statens Museum for Kunst - SMK</td>\n",
       "      <td>Art Museum</td>\n",
       "      <td>55.688575</td>\n",
       "      <td>12.578399</td>\n",
       "      <td>Copenhagen</td>\n",
       "    </tr>\n",
       "    <tr>\n",
       "      <th>2</th>\n",
       "      <td>Kongens Have</td>\n",
       "      <td>Park</td>\n",
       "      <td>55.684361</td>\n",
       "      <td>12.580099</td>\n",
       "      <td>Copenhagen</td>\n",
       "    </tr>\n",
       "    <tr>\n",
       "      <th>3</th>\n",
       "      <td>Ørstedsparken</td>\n",
       "      <td>Park</td>\n",
       "      <td>55.680670</td>\n",
       "      <td>12.566367</td>\n",
       "      <td>Copenhagen</td>\n",
       "    </tr>\n",
       "    <tr>\n",
       "      <th>4</th>\n",
       "      <td>Cinemateket</td>\n",
       "      <td>Indie Movie Theater</td>\n",
       "      <td>55.683182</td>\n",
       "      <td>12.578596</td>\n",
       "      <td>Copenhagen</td>\n",
       "    </tr>\n",
       "  </tbody>\n",
       "</table>\n",
       "</div>"
      ],
      "text/plain": [
       "                             Name           Categories   Latitude  Longitude  \\\n",
       "0                  Rosenborg Slot               Palace  55.685683  12.577482   \n",
       "1  Statens Museum for Kunst - SMK           Art Museum  55.688575  12.578399   \n",
       "2                    Kongens Have                 Park  55.684361  12.580099   \n",
       "3                   Ørstedsparken                 Park  55.680670  12.566367   \n",
       "4                     Cinemateket  Indie Movie Theater  55.683182  12.578596   \n",
       "\n",
       "         City  \n",
       "0  Copenhagen  \n",
       "1  Copenhagen  \n",
       "2  Copenhagen  \n",
       "3  Copenhagen  \n",
       "4  Copenhagen  "
      ]
     },
     "execution_count": 260,
     "metadata": {},
     "output_type": "execute_result"
    }
   ],
   "source": [
    "df.head()"
   ]
  },
  {
   "cell_type": "code",
   "execution_count": 261,
   "metadata": {},
   "outputs": [
    {
     "data": {
      "text/html": [
       "<div>\n",
       "<style scoped>\n",
       "    .dataframe tbody tr th:only-of-type {\n",
       "        vertical-align: middle;\n",
       "    }\n",
       "\n",
       "    .dataframe tbody tr th {\n",
       "        vertical-align: top;\n",
       "    }\n",
       "\n",
       "    .dataframe thead th {\n",
       "        text-align: right;\n",
       "    }\n",
       "</style>\n",
       "<table border=\"1\" class=\"dataframe\">\n",
       "  <thead>\n",
       "    <tr style=\"text-align: right;\">\n",
       "      <th></th>\n",
       "      <th>Name</th>\n",
       "      <th>Categories</th>\n",
       "      <th>Latitude</th>\n",
       "      <th>Longitude</th>\n",
       "      <th>City</th>\n",
       "      <th>Score</th>\n",
       "    </tr>\n",
       "  </thead>\n",
       "  <tbody>\n",
       "    <tr>\n",
       "      <th>0</th>\n",
       "      <td>Rosenborg Slot</td>\n",
       "      <td>Palace</td>\n",
       "      <td>55.685683</td>\n",
       "      <td>12.577482</td>\n",
       "      <td>Copenhagen</td>\n",
       "      <td>7</td>\n",
       "    </tr>\n",
       "    <tr>\n",
       "      <th>1</th>\n",
       "      <td>Statens Museum for Kunst - SMK</td>\n",
       "      <td>Art Museum</td>\n",
       "      <td>55.688575</td>\n",
       "      <td>12.578399</td>\n",
       "      <td>Copenhagen</td>\n",
       "      <td>2</td>\n",
       "    </tr>\n",
       "    <tr>\n",
       "      <th>2</th>\n",
       "      <td>Kongens Have</td>\n",
       "      <td>Park</td>\n",
       "      <td>55.684361</td>\n",
       "      <td>12.580099</td>\n",
       "      <td>Copenhagen</td>\n",
       "      <td>9</td>\n",
       "    </tr>\n",
       "    <tr>\n",
       "      <th>3</th>\n",
       "      <td>Ørstedsparken</td>\n",
       "      <td>Park</td>\n",
       "      <td>55.680670</td>\n",
       "      <td>12.566367</td>\n",
       "      <td>Copenhagen</td>\n",
       "      <td>9</td>\n",
       "    </tr>\n",
       "    <tr>\n",
       "      <th>4</th>\n",
       "      <td>Cinemateket</td>\n",
       "      <td>Indie Movie Theater</td>\n",
       "      <td>55.683182</td>\n",
       "      <td>12.578596</td>\n",
       "      <td>Copenhagen</td>\n",
       "      <td>3</td>\n",
       "    </tr>\n",
       "  </tbody>\n",
       "</table>\n",
       "</div>"
      ],
      "text/plain": [
       "                             Name           Categories   Latitude  Longitude  \\\n",
       "0                  Rosenborg Slot               Palace  55.685683  12.577482   \n",
       "1  Statens Museum for Kunst - SMK           Art Museum  55.688575  12.578399   \n",
       "2                    Kongens Have                 Park  55.684361  12.580099   \n",
       "3                   Ørstedsparken                 Park  55.680670  12.566367   \n",
       "4                     Cinemateket  Indie Movie Theater  55.683182  12.578596   \n",
       "\n",
       "         City  Score  \n",
       "0  Copenhagen      7  \n",
       "1  Copenhagen      2  \n",
       "2  Copenhagen      9  \n",
       "3  Copenhagen      9  \n",
       "4  Copenhagen      3  "
      ]
     },
     "execution_count": 261,
     "metadata": {},
     "output_type": "execute_result"
    }
   ],
   "source": [
    "df2 = pd.merge(df, scoring, how='left', on=['Categories','Categories'])\n",
    "\n",
    "df2.head()"
   ]
  },
  {
   "cell_type": "markdown",
   "metadata": {},
   "source": [
    "So now every venue has a score out of ten to indicate it's desirability"
   ]
  },
  {
   "cell_type": "code",
   "execution_count": 262,
   "metadata": {},
   "outputs": [
    {
     "data": {
      "text/plain": [
       "City        City      \n",
       "Amsterdam   Amsterdam     100\n",
       "Copenhagen  Copenhagen    100\n",
       "Devon       Devon          25\n",
       "Paris       Paris         100\n",
       "Name: City, dtype: int64"
      ]
     },
     "execution_count": 262,
     "metadata": {},
     "output_type": "execute_result"
    }
   ],
   "source": [
    "df2.groupby('City')['City'].value_counts()"
   ]
  },
  {
   "cell_type": "code",
   "execution_count": 263,
   "metadata": {},
   "outputs": [
    {
     "data": {
      "text/plain": [
       "City\n",
       "Amsterdam     5.15\n",
       "Copenhagen    5.11\n",
       "Devon         5.52\n",
       "Paris         4.50\n",
       "Name: Score, dtype: float64"
      ]
     },
     "execution_count": 263,
     "metadata": {},
     "output_type": "execute_result"
    }
   ],
   "source": [
    "df2.groupby('City')['Score'].mean()"
   ]
  },
  {
   "cell_type": "markdown",
   "metadata": {},
   "source": [
    "# Conclusion 1: Devon scores highest on average venue score!\n",
    "\n",
    "\n",
    "Next we'll draw some charts to illustrate the relative merits of each holiday destination"
   ]
  },
  {
   "cell_type": "code",
   "execution_count": 252,
   "metadata": {},
   "outputs": [],
   "source": [
    "import matplotlib.pyplot as plt"
   ]
  },
  {
   "cell_type": "code",
   "execution_count": 253,
   "metadata": {},
   "outputs": [
    {
     "data": {
      "image/png": "[encoded data removed]",
      "text/plain": [
       "<Figure size 720x432 with 4 Axes>"
      ]
     },
     "metadata": {},
     "output_type": "display_data"
    }
   ],
   "source": [
    "plt.subplot(2,2,1)\n",
    "\n",
    "Devon_rows = df2['City'] == 'Devon'\n",
    "Devon_venues = df2[Devon_rows]\n",
    "Devon_venues.groupby('Score')['Score'].count().plot(kind='bar', figsize=(10, 6))\n",
    "\n",
    "plt.xlabel('Score') # add to x-label to the plot\n",
    "plt.ylabel('Number of Venues') # add y-label to the plot\n",
    "plt.title('Devon Venue Scores') # add title to the plot\n",
    "\n",
    "plt.subplot(2,2,2)\n",
    "\n",
    "Copenhagen_rows = df2['City'] == 'Copenhagen'\n",
    "Copenhagen_venues = df2[Copenhagen_rows]\n",
    "Copenhagen_venues.groupby('Score')['Score'].count().plot(kind='bar', figsize=(10, 6))\n",
    "\n",
    "plt.xlabel('Score') # add to x-label to the plot\n",
    "plt.ylabel('Number of Venues') # add y-label to the plot\n",
    "plt.title('Copenhagen Venue Scores') # add title to the plot\n",
    "\n",
    "plt.subplot(2,2,3)\n",
    "\n",
    "Paris_rows = df2['City'] == 'Paris'\n",
    "Paris_venues = df2[Paris_rows]\n",
    "Paris_venues.groupby('Score')['Score'].count().plot(kind='bar', figsize=(10, 6))\n",
    "\n",
    "plt.xlabel('Score') # add to x-label to the plot\n",
    "plt.ylabel('Number of Venues') # add y-label to the plot\n",
    "plt.title('Paris Venue Scores') # add title to the plot\n",
    "\n",
    "plt.subplot(2,2,4)\n",
    "\n",
    "Amsterdam_rows = df2['City'] == 'Amsterdam'\n",
    "Amsterdam_venues = df2[Amsterdam_rows]\n",
    "Amsterdam_venues.groupby('Score')['Score'].count().plot(kind='bar', figsize=(10, 6))\n",
    "\n",
    "plt.xlabel('Score') # add to x-label to the plot\n",
    "plt.ylabel('Number of Venues') # add y-label to the plot\n",
    "plt.title('Amsterdam Venue Scores') # add title to the plot\n",
    "\n",
    "\n",
    "plt.tight_layout()\n",
    "plt.show()"
   ]
  },
  {
   "cell_type": "markdown",
   "metadata": {},
   "source": [
    "What I've liked about Python is the ease that you can switch this to a pie chart array instead, simply by changing kind='bar' to kind='pie'"
   ]
  },
  {
   "cell_type": "code",
   "execution_count": 254,
   "metadata": {},
   "outputs": [
    {
     "data": {
      "image/png": "[encoded data removed]",
      "text/plain": [
       "<Figure size 720x432 with 4 Axes>"
      ]
     },
     "metadata": {},
     "output_type": "display_data"
    }
   ],
   "source": [
    "plt.subplot(2,2,1)\n",
    "\n",
    "Devon_rows = df2['City'] == 'Devon'\n",
    "Devon_venues = df2[Devon_rows]\n",
    "Devon_venues.groupby('Score')['Score'].count().plot(kind='pie', figsize=(10, 6))\n",
    "\n",
    "plt.xlabel('Score') # add to x-label to the plot\n",
    "plt.ylabel('Number of Venues') # add y-label to the plot\n",
    "plt.title('Devon Venue Scores') # add title to the plot\n",
    "\n",
    "plt.subplot(2,2,2)\n",
    "\n",
    "Copenhagen_rows = df2['City'] == 'Copenhagen'\n",
    "Copenhagen_venues = df2[Copenhagen_rows]\n",
    "Copenhagen_venues.groupby('Score')['Score'].count().plot(kind='pie', figsize=(10, 6))\n",
    "\n",
    "plt.xlabel('Score') # add to x-label to the plot\n",
    "plt.ylabel('Number of Venues') # add y-label to the plot\n",
    "plt.title('Copenhagen Venue Scores') # add title to the plot\n",
    "\n",
    "plt.subplot(2,2,3)\n",
    "\n",
    "Paris_rows = df2['City'] == 'Paris'\n",
    "Paris_venues = df2[Paris_rows]\n",
    "Paris_venues.groupby('Score')['Score'].count().plot(kind='pie', figsize=(10, 6))\n",
    "\n",
    "plt.xlabel('Score') # add to x-label to the plot\n",
    "plt.ylabel('Number of Venues') # add y-label to the plot\n",
    "plt.title('Paris Venue Scores') # add title to the plot\n",
    "\n",
    "plt.subplot(2,2,4)\n",
    "\n",
    "Amsterdam_rows = df2['City'] == 'Amsterdam'\n",
    "Amsterdam_venues = df2[Amsterdam_rows]\n",
    "Amsterdam_venues.groupby('Score')['Score'].count().plot(kind='pie', figsize=(10, 6))\n",
    "\n",
    "plt.xlabel('Score') # add to x-label to the plot\n",
    "plt.ylabel('Number of Venues') # add y-label to the plot\n",
    "plt.title('Amsterdam Venue Scores') # add title to the plot\n",
    "\n",
    "\n",
    "plt.tight_layout()\n",
    "plt.show()"
   ]
  },
  {
   "cell_type": "markdown",
   "metadata": {},
   "source": [
    "Next let's plot each of the destination venues onto a map and colourcode each by desirability"
   ]
  },
  {
   "cell_type": "code",
   "execution_count": 272,
   "metadata": {},
   "outputs": [],
   "source": [
    "colour = ['white','grey','lightblue','lightblue','blue','orange','orange','green','green','green','green']"
   ]
  },
  {
   "cell_type": "code",
   "execution_count": 273,
   "metadata": {},
   "outputs": [],
   "source": [
    "devon = folium.Map(\n",
    "    location=Devon_Coords,\n",
    "    zoom_start=13,\n",
    "    tiles='Stamen Terrain'\n",
    ")\n",
    "\n",
    "copenhagen = folium.Map(\n",
    "    location=Copenhagen_Coords,\n",
    "    zoom_start=13,\n",
    "    tiles='Stamen Terrain'\n",
    ")\n",
    "\n",
    "paris = folium.Map(\n",
    "    location=Paris_Coords,\n",
    "    zoom_start=13,\n",
    "    tiles='Stamen Terrain'\n",
    ")\n",
    "\n",
    "amsterdam = folium.Map(\n",
    "    location=Amsterdam_Coords,\n",
    "    zoom_start=13,\n",
    "    tiles='Stamen Terrain'\n",
    ")"
   ]
  },
  {
   "cell_type": "code",
   "execution_count": 274,
   "metadata": {},
   "outputs": [],
   "source": [
    "def plot_venue(city,latitude,longitude,category,color):\n",
    "    folium.Marker(location=[latitude, longitude],popup=category,icon=folium.Icon(color=color, icon='flag')\n",
    "                ).add_to(city)"
   ]
  },
  {
   "cell_type": "code",
   "execution_count": 275,
   "metadata": {},
   "outputs": [],
   "source": [
    "for index, row in df2.iterrows():\n",
    "    if (row['City'] == 'Devon'):\n",
    "        plot_venue(devon,row['Latitude'],row['Longitude'],row['Categories'],colour[int(row['Score'])])\n",
    "        \n",
    "for index, row in df2.iterrows():\n",
    "    if (row['City'] == 'Copenhagen'):\n",
    "        plot_venue(copenhagen,row['Latitude'],row['Longitude'],row['Categories'],colour[int(row['Score'])])\n",
    "\n",
    "for index, row in df2.iterrows():\n",
    "    if (row['City'] == 'Paris'):\n",
    "        plot_venue(paris,row['Latitude'],row['Longitude'],row['Categories'],colour[int(row['Score'])])\n",
    "       \n",
    "for index, row in df2.iterrows():\n",
    "    if (row['City'] == 'Amsterdam'):\n",
    "        plot_venue(amsterdam,row['Latitude'],row['Longitude'],row['Categories'],colour[int(row['Score'])])"
   ]
  },
  {
   "cell_type": "markdown",
   "metadata": {},
   "source": [
    "# Devon"
   ]
  },
  {
   "cell_type": "markdown",
   "metadata": {},
   "source": [
    "![Devon](Devon.jpg)"
   ]
  },
  {
   "cell_type": "markdown",
   "metadata": {},
   "source": [
    "# Copenhagen"
   ]
  },
  {
   "cell_type": "markdown",
   "metadata": {},
   "source": [
    "![Copenhagen](Copenhagen.jpg)"
   ]
  },
  {
   "cell_type": "markdown",
   "metadata": {},
   "source": [
    "# Paris"
   ]
  },
  {
   "cell_type": "markdown",
   "metadata": {},
   "source": [
    "![Paris](Paris.jpg)"
   ]
  },
  {
   "cell_type": "markdown",
   "metadata": {},
   "source": [
    "# Amsterdam"
   ]
  },
  {
   "cell_type": "markdown",
   "metadata": {},
   "source": [
    "![Amsterdam](Amsterdam .jpg)"
   ]
  },
  {
   "cell_type": "markdown",
   "metadata": {},
   "source": [
    "Finally, let's do some onehot encoding to find the most common venues in each city"
   ]
  },
  {
   "cell_type": "code",
   "execution_count": 287,
   "metadata": {},
   "outputs": [
    {
     "data": {
      "text/html": [
       "<div>\n",
       "<style scoped>\n",
       "    .dataframe tbody tr th:only-of-type {\n",
       "        vertical-align: middle;\n",
       "    }\n",
       "\n",
       "    .dataframe tbody tr th {\n",
       "        vertical-align: top;\n",
       "    }\n",
       "\n",
       "    .dataframe thead th {\n",
       "        text-align: right;\n",
       "    }\n",
       "</style>\n",
       "<table border=\"1\" class=\"dataframe\">\n",
       "  <thead>\n",
       "    <tr style=\"text-align: right;\">\n",
       "      <th></th>\n",
       "      <th>City</th>\n",
       "      <th>American Restaurant</th>\n",
       "      <th>Arcade</th>\n",
       "      <th>Art Gallery</th>\n",
       "      <th>Art Museum</th>\n",
       "      <th>Arts &amp; Crafts Store</th>\n",
       "      <th>Bar</th>\n",
       "      <th>Boat or Ferry</th>\n",
       "      <th>Bookstore</th>\n",
       "      <th>Bowling Alley</th>\n",
       "      <th>...</th>\n",
       "      <th>Science Museum</th>\n",
       "      <th>Soccer Stadium</th>\n",
       "      <th>Stadium</th>\n",
       "      <th>Tattoo Parlor</th>\n",
       "      <th>Theater</th>\n",
       "      <th>Theme Park</th>\n",
       "      <th>Theme Park Ride / Attraction</th>\n",
       "      <th>University</th>\n",
       "      <th>Zoo</th>\n",
       "      <th>Zoo Exhibit</th>\n",
       "    </tr>\n",
       "  </thead>\n",
       "  <tbody>\n",
       "    <tr>\n",
       "      <th>0</th>\n",
       "      <td>Amsterdam</td>\n",
       "      <td>0.00</td>\n",
       "      <td>0.03</td>\n",
       "      <td>0.09</td>\n",
       "      <td>0.07</td>\n",
       "      <td>0.00</td>\n",
       "      <td>0.04</td>\n",
       "      <td>0.01</td>\n",
       "      <td>0.00</td>\n",
       "      <td>0.00</td>\n",
       "      <td>...</td>\n",
       "      <td>0.03</td>\n",
       "      <td>0.00</td>\n",
       "      <td>0.00</td>\n",
       "      <td>0.01</td>\n",
       "      <td>0.07</td>\n",
       "      <td>0.00</td>\n",
       "      <td>0.03</td>\n",
       "      <td>0.00</td>\n",
       "      <td>0.01</td>\n",
       "      <td>0.02</td>\n",
       "    </tr>\n",
       "    <tr>\n",
       "      <th>1</th>\n",
       "      <td>Copenhagen</td>\n",
       "      <td>0.01</td>\n",
       "      <td>0.00</td>\n",
       "      <td>0.06</td>\n",
       "      <td>0.05</td>\n",
       "      <td>0.01</td>\n",
       "      <td>0.04</td>\n",
       "      <td>0.00</td>\n",
       "      <td>0.00</td>\n",
       "      <td>0.01</td>\n",
       "      <td>...</td>\n",
       "      <td>0.02</td>\n",
       "      <td>0.03</td>\n",
       "      <td>0.01</td>\n",
       "      <td>0.00</td>\n",
       "      <td>0.10</td>\n",
       "      <td>0.04</td>\n",
       "      <td>0.02</td>\n",
       "      <td>0.01</td>\n",
       "      <td>0.00</td>\n",
       "      <td>0.00</td>\n",
       "    </tr>\n",
       "    <tr>\n",
       "      <th>2</th>\n",
       "      <td>Devon</td>\n",
       "      <td>0.00</td>\n",
       "      <td>0.00</td>\n",
       "      <td>0.00</td>\n",
       "      <td>0.00</td>\n",
       "      <td>0.00</td>\n",
       "      <td>0.08</td>\n",
       "      <td>0.00</td>\n",
       "      <td>0.00</td>\n",
       "      <td>0.04</td>\n",
       "      <td>...</td>\n",
       "      <td>0.00</td>\n",
       "      <td>0.08</td>\n",
       "      <td>0.00</td>\n",
       "      <td>0.00</td>\n",
       "      <td>0.08</td>\n",
       "      <td>0.00</td>\n",
       "      <td>0.00</td>\n",
       "      <td>0.00</td>\n",
       "      <td>0.00</td>\n",
       "      <td>0.00</td>\n",
       "    </tr>\n",
       "    <tr>\n",
       "      <th>3</th>\n",
       "      <td>Paris</td>\n",
       "      <td>0.00</td>\n",
       "      <td>0.00</td>\n",
       "      <td>0.17</td>\n",
       "      <td>0.08</td>\n",
       "      <td>0.00</td>\n",
       "      <td>0.00</td>\n",
       "      <td>0.00</td>\n",
       "      <td>0.01</td>\n",
       "      <td>0.00</td>\n",
       "      <td>...</td>\n",
       "      <td>0.03</td>\n",
       "      <td>0.00</td>\n",
       "      <td>0.00</td>\n",
       "      <td>0.00</td>\n",
       "      <td>0.05</td>\n",
       "      <td>0.00</td>\n",
       "      <td>0.00</td>\n",
       "      <td>0.00</td>\n",
       "      <td>0.01</td>\n",
       "      <td>0.00</td>\n",
       "    </tr>\n",
       "  </tbody>\n",
       "</table>\n",
       "<p>4 rows × 62 columns</p>\n",
       "</div>"
      ],
      "text/plain": [
       "         City  American Restaurant  Arcade  Art Gallery  Art Museum  \\\n",
       "0   Amsterdam                 0.00    0.03         0.09        0.07   \n",
       "1  Copenhagen                 0.01    0.00         0.06        0.05   \n",
       "2       Devon                 0.00    0.00         0.00        0.00   \n",
       "3       Paris                 0.00    0.00         0.17        0.08   \n",
       "\n",
       "   Arts & Crafts Store   Bar  Boat or Ferry  Bookstore  Bowling Alley  ...  \\\n",
       "0                 0.00  0.04           0.01       0.00           0.00  ...   \n",
       "1                 0.01  0.04           0.00       0.00           0.01  ...   \n",
       "2                 0.00  0.08           0.00       0.00           0.04  ...   \n",
       "3                 0.00  0.00           0.00       0.01           0.00  ...   \n",
       "\n",
       "   Science Museum  Soccer Stadium  Stadium  Tattoo Parlor  Theater  \\\n",
       "0            0.03            0.00     0.00           0.01     0.07   \n",
       "1            0.02            0.03     0.01           0.00     0.10   \n",
       "2            0.00            0.08     0.00           0.00     0.08   \n",
       "3            0.03            0.00     0.00           0.00     0.05   \n",
       "\n",
       "   Theme Park  Theme Park Ride / Attraction  University   Zoo  Zoo Exhibit  \n",
       "0        0.00                          0.03        0.00  0.01         0.02  \n",
       "1        0.04                          0.02        0.01  0.00         0.00  \n",
       "2        0.00                          0.00        0.00  0.00         0.00  \n",
       "3        0.00                          0.00        0.00  0.01         0.00  \n",
       "\n",
       "[4 rows x 62 columns]"
      ]
     },
     "execution_count": 287,
     "metadata": {},
     "output_type": "execute_result"
    }
   ],
   "source": [
    "# one hot encoding\n",
    "df_onehot = pd.get_dummies(df2[['Categories']], prefix=\"\", prefix_sep=\"\")\n",
    "\n",
    "# add neighborhood column back to dataframe\n",
    "df_onehot['City'] = df2['City']\n",
    "\n",
    "# move neighborhood column to the first column\n",
    "fixed_columns = [df_onehot.columns[-1]] + list(df_onehot.columns[:-1])\n",
    "df_onehot = df_onehot[fixed_columns]\n",
    "\n",
    "df_grouped = df_onehot.groupby('City').mean().reset_index()\n",
    "df_grouped"
   ]
  },
  {
   "cell_type": "code",
   "execution_count": 290,
   "metadata": {},
   "outputs": [
    {
     "name": "stdout",
     "output_type": "stream",
     "text": [
      "----Amsterdam----\n",
      "           venue  freq\n",
      "0         Museum  0.13\n",
      "1    Art Gallery  0.09\n",
      "2     Art Museum  0.07\n",
      "3        Theater  0.07\n",
      "4  Movie Theater  0.05\n",
      "\n",
      "\n",
      "----Copenhagen----\n",
      "         venue  freq\n",
      "0         Park  0.13\n",
      "1      Theater  0.10\n",
      "2  Music Venue  0.07\n",
      "3  Art Gallery  0.06\n",
      "4   Art Museum  0.05\n",
      "\n",
      "\n",
      "----Devon----\n",
      "            venue  freq\n",
      "0            Park  0.20\n",
      "1  Soccer Stadium  0.08\n",
      "2             Bar  0.08\n",
      "3         Theater  0.08\n",
      "4   Historic Site  0.08\n",
      "\n",
      "\n",
      "----Paris----\n",
      "                 venue  freq\n",
      "0          Art Gallery  0.17\n",
      "1        Historic Site  0.14\n",
      "2  Indie Movie Theater  0.09\n",
      "3           Art Museum  0.08\n",
      "4                 Park  0.07\n",
      "\n",
      "\n"
     ]
    }
   ],
   "source": [
    "num_top_venues = 5\n",
    "\n",
    "for hood in df_grouped['City']:\n",
    "    print(\"----\"+hood+\"----\")\n",
    "    temp = df_grouped[df_grouped['City'] == hood].T.reset_index()\n",
    "    temp.columns = ['venue','freq']\n",
    "    temp = temp.iloc[1:]\n",
    "    temp['freq'] = temp['freq'].astype(float)\n",
    "    temp = temp.round({'freq': 2})\n",
    "    print(temp.sort_values('freq', ascending=False).reset_index(drop=True).head(num_top_venues))\n",
    "    print('\\n')"
   ]
  },
  {
   "cell_type": "markdown",
   "metadata": {},
   "source": [
    "# Conclusions\n",
    "\n",
    "Using the above analysis, I have discovered that all of the cities I've chosen do answer to some of our holiday requirements. Devon, naturally come out top on average score and this was highlighted by the high frequencies of parks - which are a big favourite for our boys.\n",
    "\n",
    "Copenhagen also scored highly in the same ways. Parks are very prevalent and it scores highly on average attration ratings.\n",
    "\n",
    "So in conclusion, we're going to be planning a holiday to Copenhagen for 2019!"
   ]
  },
  {
   "cell_type": "markdown",
   "metadata": {},
   "source": [
    "# Afterthoughts\n",
    "\n",
    "One of the key parts of delivering any analysis to stakeholders is to KNOW YOUR AUDIENCE. I could have spent a lot of time building kMeans models and sourcing additional data to support my analysis but given that my wife and children are as far from a technical audience as you can get, there seemed little point.\n",
    "\n",
    "This is probably true for the analysis which I am carrying out at work also. Simplicity is key.\n",
    "\n",
    "I've focussed on visuals using Python's very user friendly mapping capabilities and plotted some simple charts"
   ]
  },
  {
   "cell_type": "code",
   "execution_count": null,
   "metadata": {},
   "outputs": [],
   "source": []
  }
 ],
 "metadata": {
  "kernelspec": {
   "display_name": "Python 3",
   "language": "python",
   "name": "python3"
  },
  "language_info": {
   "codemirror_mode": {
    "name": "ipython",
    "version": 3
   },
   "file_extension": ".py",
   "mimetype": "text/x-python",
   "name": "python",
   "nbconvert_exporter": "python",
   "pygments_lexer": "ipython3",
   "version": "3.7.3"
  }
 },
 "nbformat": 4,
 "nbformat_minor": 2
}
